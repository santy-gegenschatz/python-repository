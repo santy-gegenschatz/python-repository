{
 "cells": [
  {
   "cell_type": "code",
   "execution_count": 57,
   "metadata": {},
   "outputs": [],
   "source": [
    "# Importamos las librerías necesarias\n",
    "import numpy as np\n",
    "import pandas as pd"
   ]
  },
  {
   "cell_type": "markdown",
   "metadata": {},
   "source": [
    "Ejercicio 1"
   ]
  },
  {
   "cell_type": "code",
   "execution_count": 58,
   "metadata": {},
   "outputs": [
    {
     "name": "stdout",
     "output_type": "stream",
     "text": [
      "[73 74 34  7 17 43 43 34 47 31 28 60 77 66 50 19 85 41 67 14 50 92 93 91\n",
      " 94 14 17 29 79 46  8 81 88 63 70 22 12  1 64 61 61 93 39 49 46 21 74 17\n",
      "  3 41 26 96 94 71  2 22 31 99 24 68 11 73 92 78 11  4 88 40 40 17 44 16\n",
      " 34 18 23 70 95 61 53 34 93 80  1 46 10 24 35 29  4 28 10 94 34 44 22 91\n",
      " 61 93 13 43]\n",
      "La mediana es 43.0\n"
     ]
    }
   ],
   "source": [
    "# Generamos un array con 100 elementos aleatorios\n",
    "array_aleatorio = np.random.randint(100, size = 100)\n",
    "# Ahora para calcular la mediana usamos la funcion median de numpy\n",
    "mediana = np.median(array_aleatorio)\n",
    "print(array_aleatorio)\n",
    "print(f'La mediana es {mediana}')"
   ]
  },
  {
   "cell_type": "markdown",
   "metadata": {},
   "source": [
    "Ejercicio 2 - Parte A"
   ]
  },
  {
   "cell_type": "code",
   "execution_count": 59,
   "metadata": {},
   "outputs": [],
   "source": [
    "# Queremos hacer una función que calcule el factorial de un número cualquiera mediante arrays\n",
    "def factorial_con_arrays(num):\n",
    "    # Generamos un array con el rango del factorial a calcular\n",
    "    array_rango = np.arange(1, num+1)\n",
    "    # El factorial arranca en 1\n",
    "    factorial = 1\n",
    "    # Recorremos el array con un for, calculando el \n",
    "    for i in array_rango:\n",
    "        factorial = factorial * i\n",
    "    return (f'El factorial de {num} es {factorial}')"
   ]
  },
  {
   "cell_type": "code",
   "execution_count": 60,
   "metadata": {
    "scrolled": true
   },
   "outputs": [
    {
     "name": "stdout",
     "output_type": "stream",
     "text": [
      "El factorial de 5 es 120\n",
      "El factorial de 6 es 720\n"
     ]
    }
   ],
   "source": [
    "# Probamos con el factorial de 5, que deberia ser 120\n",
    "print(factorial_con_arrays(5))\n",
    "\n",
    "# Probamos con el factorial de 6, que deberia ser 720\n",
    "print(factorial_con_arrays(6))\n",
    "# Funciona como corresponde (proximamente funcionará con números negativos :)"
   ]
  },
  {
   "cell_type": "markdown",
   "metadata": {},
   "source": [
    "Ejercicio 2 - Parte B"
   ]
  },
  {
   "cell_type": "code",
   "execution_count": 61,
   "metadata": {},
   "outputs": [],
   "source": [
    "# Ahora más bien queremos una función que calcule la suma entre dos números n1, n2; con n2>n1\n",
    "def suma_serie_arrays(num1, num2):\n",
    "    if (num2>num1):\n",
    "        array_rango = np.arange(num1, num2+1)\n",
    "        # En vez de sumar uno a uno con un for usamos la función suma, es más elegante\n",
    "        suma = sum(array_rango)\n",
    "        return (f'La suma de los valores en el rango {num1} y {num2} es {suma}')\n",
    "    else:\n",
    "        return (\"Error: El segundo número tiene que ser más alto que el primero\")"
   ]
  },
  {
   "cell_type": "code",
   "execution_count": 62,
   "metadata": {
    "scrolled": true
   },
   "outputs": [
    {
     "name": "stdout",
     "output_type": "stream",
     "text": [
      "La suma de los valores en el rango 10 y 25 es 280\n",
      "La suma de los valores en el rango 3 y 7 es 25\n",
      "Error: El segundo número tiene que ser más alto que el primero\n"
     ]
    }
   ],
   "source": [
    "# Probamos con 10 y 25, la suma debería ser 280\n",
    "print(suma_serie_arrays(10, 25))\n",
    "\n",
    "# Probamos con 3 y 7, la suma debería ser 25\n",
    "print(suma_serie_arrays(3, 7))\n",
    "\n",
    "# Probamos con 5 y -4, debería dar error\n",
    "print(suma_serie_arrays(5, -4))\n",
    "\n",
    "# Funciona como corresponde :)"
   ]
  },
  {
   "cell_type": "markdown",
   "metadata": {},
   "source": [
    "Ejercicio 3"
   ]
  },
  {
   "cell_type": "code",
   "execution_count": 63,
   "metadata": {},
   "outputs": [],
   "source": [
    "# Queremos importar los datos que están en la consigna\n",
    "df_sueldos_netos = pd.read_csv('salarios.csv')"
   ]
  },
  {
   "cell_type": "code",
   "execution_count": 64,
   "metadata": {},
   "outputs": [
    {
     "data": {
      "text/html": [
       "<div>\n",
       "<style scoped>\n",
       "    .dataframe tbody tr th:only-of-type {\n",
       "        vertical-align: middle;\n",
       "    }\n",
       "\n",
       "    .dataframe tbody tr th {\n",
       "        vertical-align: top;\n",
       "    }\n",
       "\n",
       "    .dataframe thead th {\n",
       "        text-align: right;\n",
       "    }\n",
       "</style>\n",
       "<table border=\"1\" class=\"dataframe\">\n",
       "  <thead>\n",
       "    <tr style=\"text-align: right;\">\n",
       "      <th></th>\n",
       "      <th>Timestamp</th>\n",
       "      <th>Me identifico</th>\n",
       "      <th>Tengo</th>\n",
       "      <th>Estoy trabajando en</th>\n",
       "      <th>Dónde estás trabajando</th>\n",
       "      <th>Bolivia</th>\n",
       "      <th>Chile</th>\n",
       "      <th>Colombia</th>\n",
       "      <th>Cuba</th>\n",
       "      <th>Costa Rica</th>\n",
       "      <th>...</th>\n",
       "      <th>¿Con cuántas personas estás conviviendo?</th>\n",
       "      <th>¿Con quiénes convivís?</th>\n",
       "      <th>¿Tenés un espacio dedicado para el trabajo?</th>\n",
       "      <th>¿Tenés que compartir tu equipo de trabajo con alguien?</th>\n",
       "      <th>¿Qué tipo de cuarentena estás haciendo?</th>\n",
       "      <th>¿Cambió tu situación laboral a raíz de la pandemia?</th>\n",
       "      <th>¿Qué tanto sentís que te está apoyando tu empresa en esta situación?</th>\n",
       "      <th>¿Cómo se vio afectada tu empresa?</th>\n",
       "      <th>¿Instauraron algún beneficio nuevo?</th>\n",
       "      <th>¿Cuáles considerás que son las mejores empresas de IT para trabajar en este momento, en tu ciudad?</th>\n",
       "    </tr>\n",
       "  </thead>\n",
       "  <tbody>\n",
       "    <tr>\n",
       "      <td>0</td>\n",
       "      <td>7/6/2020 9:56:02</td>\n",
       "      <td>Mujer</td>\n",
       "      <td>26</td>\n",
       "      <td>Argentina</td>\n",
       "      <td>Ciudad Autónoma de Buenos Aires</td>\n",
       "      <td>NaN</td>\n",
       "      <td>NaN</td>\n",
       "      <td>NaN</td>\n",
       "      <td>NaN</td>\n",
       "      <td>NaN</td>\n",
       "      <td>...</td>\n",
       "      <td>0</td>\n",
       "      <td>Vivo solo/a</td>\n",
       "      <td>No</td>\n",
       "      <td>No</td>\n",
       "      <td>4</td>\n",
       "      <td>Decidí buscar otro trabajo</td>\n",
       "      <td>7</td>\n",
       "      <td>No la afectó</td>\n",
       "      <td>No</td>\n",
       "      <td>NaN</td>\n",
       "    </tr>\n",
       "    <tr>\n",
       "      <td>1</td>\n",
       "      <td>7/6/2020 9:57:09</td>\n",
       "      <td>Hombre</td>\n",
       "      <td>29</td>\n",
       "      <td>Argentina</td>\n",
       "      <td>Corrientes</td>\n",
       "      <td>NaN</td>\n",
       "      <td>NaN</td>\n",
       "      <td>NaN</td>\n",
       "      <td>NaN</td>\n",
       "      <td>NaN</td>\n",
       "      <td>...</td>\n",
       "      <td>1</td>\n",
       "      <td>-</td>\n",
       "      <td>No</td>\n",
       "      <td>No</td>\n",
       "      <td>3</td>\n",
       "      <td>Cambié de trabajo, pero no por la pandemia</td>\n",
       "      <td>8</td>\n",
       "      <td>No la afectó</td>\n",
       "      <td>No</td>\n",
       "      <td>NaN</td>\n",
       "    </tr>\n",
       "    <tr>\n",
       "      <td>2</td>\n",
       "      <td>7/6/2020 9:58:09</td>\n",
       "      <td>Mujer</td>\n",
       "      <td>22</td>\n",
       "      <td>Argentina</td>\n",
       "      <td>Ciudad Autónoma de Buenos Aires</td>\n",
       "      <td>NaN</td>\n",
       "      <td>NaN</td>\n",
       "      <td>NaN</td>\n",
       "      <td>NaN</td>\n",
       "      <td>NaN</td>\n",
       "      <td>...</td>\n",
       "      <td>1</td>\n",
       "      <td>Pareja</td>\n",
       "      <td>No</td>\n",
       "      <td>No</td>\n",
       "      <td>4</td>\n",
       "      <td>Cambié de trabajo, pero no por la pandemia</td>\n",
       "      <td>8</td>\n",
       "      <td>Se vio beneficiada</td>\n",
       "      <td>Clases de gimnasia, Clases de meditación, Clas...</td>\n",
       "      <td>NaN</td>\n",
       "    </tr>\n",
       "    <tr>\n",
       "      <td>3</td>\n",
       "      <td>7/6/2020 9:59:52</td>\n",
       "      <td>Hombre</td>\n",
       "      <td>39</td>\n",
       "      <td>Argentina</td>\n",
       "      <td>Corrientes</td>\n",
       "      <td>NaN</td>\n",
       "      <td>NaN</td>\n",
       "      <td>NaN</td>\n",
       "      <td>NaN</td>\n",
       "      <td>NaN</td>\n",
       "      <td>...</td>\n",
       "      <td>1</td>\n",
       "      <td>Pareja</td>\n",
       "      <td>Sí</td>\n",
       "      <td>No</td>\n",
       "      <td>4</td>\n",
       "      <td>No</td>\n",
       "      <td>4</td>\n",
       "      <td>Cerró oficinas, Bajaron los sueldos o pagan pa...</td>\n",
       "      <td>No</td>\n",
       "      <td>NaN</td>\n",
       "    </tr>\n",
       "    <tr>\n",
       "      <td>4</td>\n",
       "      <td>7/6/2020 10:01:27</td>\n",
       "      <td>Hombre</td>\n",
       "      <td>32</td>\n",
       "      <td>Argentina</td>\n",
       "      <td>Ciudad Autónoma de Buenos Aires</td>\n",
       "      <td>NaN</td>\n",
       "      <td>NaN</td>\n",
       "      <td>NaN</td>\n",
       "      <td>NaN</td>\n",
       "      <td>NaN</td>\n",
       "      <td>...</td>\n",
       "      <td>2</td>\n",
       "      <td>Pareja, Hijos/as (tiempo completo)</td>\n",
       "      <td>Sí</td>\n",
       "      <td>No</td>\n",
       "      <td>3</td>\n",
       "      <td>No</td>\n",
       "      <td>6</td>\n",
       "      <td>Nos obligaron a tomarnos vacaciones</td>\n",
       "      <td>No</td>\n",
       "      <td>NaN</td>\n",
       "    </tr>\n",
       "  </tbody>\n",
       "</table>\n",
       "<p>5 rows × 81 columns</p>\n",
       "</div>"
      ],
      "text/plain": [
       "           Timestamp Me identifico  Tengo Estoy trabajando en  \\\n",
       "0   7/6/2020 9:56:02         Mujer     26           Argentina   \n",
       "1   7/6/2020 9:57:09        Hombre     29           Argentina   \n",
       "2   7/6/2020 9:58:09         Mujer     22           Argentina   \n",
       "3   7/6/2020 9:59:52        Hombre     39           Argentina   \n",
       "4  7/6/2020 10:01:27        Hombre     32           Argentina   \n",
       "\n",
       "            Dónde estás trabajando Bolivia Chile Colombia Cuba Costa Rica  \\\n",
       "0  Ciudad Autónoma de Buenos Aires     NaN   NaN      NaN  NaN        NaN   \n",
       "1                       Corrientes     NaN   NaN      NaN  NaN        NaN   \n",
       "2  Ciudad Autónoma de Buenos Aires     NaN   NaN      NaN  NaN        NaN   \n",
       "3                       Corrientes     NaN   NaN      NaN  NaN        NaN   \n",
       "4  Ciudad Autónoma de Buenos Aires     NaN   NaN      NaN  NaN        NaN   \n",
       "\n",
       "   ... ¿Con cuántas personas estás conviviendo?  \\\n",
       "0  ...                                        0   \n",
       "1  ...                                        1   \n",
       "2  ...                                        1   \n",
       "3  ...                                        1   \n",
       "4  ...                                        2   \n",
       "\n",
       "               ¿Con quiénes convivís?  \\\n",
       "0                         Vivo solo/a   \n",
       "1                                   -   \n",
       "2                              Pareja   \n",
       "3                              Pareja   \n",
       "4  Pareja, Hijos/as (tiempo completo)   \n",
       "\n",
       "  ¿Tenés un espacio dedicado para el trabajo?  \\\n",
       "0                                          No   \n",
       "1                                          No   \n",
       "2                                          No   \n",
       "3                                          Sí   \n",
       "4                                          Sí   \n",
       "\n",
       "  ¿Tenés que compartir tu equipo de trabajo con alguien?  \\\n",
       "0                                                 No       \n",
       "1                                                 No       \n",
       "2                                                 No       \n",
       "3                                                 No       \n",
       "4                                                 No       \n",
       "\n",
       "  ¿Qué tipo de cuarentena estás haciendo?  \\\n",
       "0                                       4   \n",
       "1                                       3   \n",
       "2                                       4   \n",
       "3                                       4   \n",
       "4                                       3   \n",
       "\n",
       "  ¿Cambió tu situación laboral a raíz de la pandemia?  \\\n",
       "0                         Decidí buscar otro trabajo    \n",
       "1         Cambié de trabajo, pero no por la pandemia    \n",
       "2         Cambié de trabajo, pero no por la pandemia    \n",
       "3                                                 No    \n",
       "4                                                 No    \n",
       "\n",
       "  ¿Qué tanto sentís que te está apoyando tu empresa en esta situación?  \\\n",
       "0                                                  7                     \n",
       "1                                                  8                     \n",
       "2                                                  8                     \n",
       "3                                                  4                     \n",
       "4                                                  6                     \n",
       "\n",
       "                   ¿Cómo se vio afectada tu empresa?  \\\n",
       "0                                       No la afectó   \n",
       "1                                       No la afectó   \n",
       "2                                 Se vio beneficiada   \n",
       "3  Cerró oficinas, Bajaron los sueldos o pagan pa...   \n",
       "4                Nos obligaron a tomarnos vacaciones   \n",
       "\n",
       "                 ¿Instauraron algún beneficio nuevo?  \\\n",
       "0                                                 No   \n",
       "1                                                 No   \n",
       "2  Clases de gimnasia, Clases de meditación, Clas...   \n",
       "3                                                 No   \n",
       "4                                                 No   \n",
       "\n",
       "   ¿Cuáles considerás que son las mejores empresas de IT para trabajar en este momento, en tu ciudad?  \n",
       "0                                                NaN                                                   \n",
       "1                                                NaN                                                   \n",
       "2                                                NaN                                                   \n",
       "3                                                NaN                                                   \n",
       "4                                                NaN                                                   \n",
       "\n",
       "[5 rows x 81 columns]"
      ]
     },
     "execution_count": 64,
     "metadata": {},
     "output_type": "execute_result"
    }
   ],
   "source": [
    "# Hacemos un head para ver que hay en el dataset\n",
    "df_sueldos_netos.head()"
   ]
  },
  {
   "cell_type": "code",
   "execution_count": 65,
   "metadata": {},
   "outputs": [
    {
     "data": {
      "text/plain": [
       "Index(['Timestamp', 'Me identifico', 'Tengo', 'Estoy trabajando en',\n",
       "       'Dónde estás trabajando', 'Bolivia', 'Chile', 'Colombia', 'Cuba',\n",
       "       'Costa Rica', 'Ecuador', 'El Salvador', 'Guatemala', 'Honduras',\n",
       "       'México', 'Nicaragua', 'Panamá', 'Paraguay', 'Perú', 'Puerto Rico',\n",
       "       'República Dominicana', 'Uruguay', 'Venezuela', 'Años de experiencia',\n",
       "       'Años en la empresa actual', 'Años en el puesto actual',\n",
       "       '¿Gente a cargo?', 'Nivel de estudios alcanzado', 'Estado', 'Carrera',\n",
       "       'Universidad', 'Realizaste cursos de especialización',\n",
       "       '¿Contribuís a proyectos open source?', '¿Programás como hobbie?',\n",
       "       'Trabajo de', 'Plataformas', 'Lenguajes de programación',\n",
       "       'Frameworks, herramientas y librerías', 'Bases de datos',\n",
       "       'QA / Testing', 'IDEs', '¿Qué SO usás en tu laptop/PC para trabajar?',\n",
       "       '¿Y en tu celular?', '¿Tenés guardias?', 'Cuánto cobrás por guardia',\n",
       "       '¿Porcentaje, bruto o neto?', 'Tipo de contrato',\n",
       "       'Salario mensual BRUTO (en tu moneda local)',\n",
       "       'Salario mensual NETO (en tu moneda local)', 'Unnamed: 49',\n",
       "       '¿Qué tan conforme estás con tu sueldo?',\n",
       "       'Cómo creés que está tu sueldo con respecto al último semestre',\n",
       "       'Recibís algún tipo de bono', 'A qué está atado el bono',\n",
       "       '¿Tuviste ajustes por inflación en lo que va de 2020?',\n",
       "       '¿De qué % fue el ajuste total?', '¿En qué mes fue el último ajuste?',\n",
       "       '¿Sufriste o presenciaste situaciones de violencia laboral?',\n",
       "       'Orientación sexual', '¿Tenés algún tipo de discapacidad?',\n",
       "       '¿Sentís que esto te dificultó el conseguir trabajo?',\n",
       "       '¿Sos miembro de alguna comunidad IT?',\n",
       "       '¿Escuchás algún podcast de IT?',\n",
       "       '¿A qué eventos de tecnología asististe en los últimos 12 meses?',\n",
       "       'Cantidad de empleados', 'Actividad principal',\n",
       "       '¿La recomendás como un buen lugar para trabajar?',\n",
       "       '¿Cómo calificás las políticas de diversidad e inclusión?',\n",
       "       'Beneficios extra', '¿Cómo venís llevando la cuarentena?',\n",
       "       '¿Tenés hijos/as menores de edad?',\n",
       "       '¿Con cuántas personas estás conviviendo?', '¿Con quiénes convivís?',\n",
       "       '¿Tenés un espacio dedicado para el trabajo?',\n",
       "       '¿Tenés que compartir tu equipo de trabajo con alguien?',\n",
       "       '¿Qué tipo de cuarentena estás haciendo?',\n",
       "       '¿Cambió tu situación laboral a raíz de la pandemia?',\n",
       "       '¿Qué tanto sentís que te está apoyando tu empresa en esta situación?',\n",
       "       '¿Cómo se vio afectada tu empresa?',\n",
       "       '¿Instauraron algún beneficio nuevo?',\n",
       "       '¿Cuáles considerás que son las mejores empresas de IT para trabajar en este momento, en tu ciudad?'],\n",
       "      dtype='object')"
      ]
     },
     "execution_count": 65,
     "metadata": {},
     "output_type": "execute_result"
    }
   ],
   "source": [
    "# Buscamos las columns para ver cual es la que necesitamos\n",
    "df_sueldos_netos.columns"
   ]
  },
  {
   "cell_type": "code",
   "execution_count": 66,
   "metadata": {},
   "outputs": [],
   "source": [
    "column_sueldos = df_sueldos_netos['Salario mensual NETO (en tu moneda local)']"
   ]
  },
  {
   "cell_type": "code",
   "execution_count": 85,
   "metadata": {},
   "outputs": [
    {
     "name": "stdout",
     "output_type": "stream",
     "text": [
      "La media del dataset de sueldos es 233389.984375 y la mediana es 76000.0\n"
     ]
    }
   ],
   "source": [
    "# Ahora calculamos la media y la mediana de column_sueldos, con las funciones mean() y median()\n",
    "# Dio error porque primero hay que pasar los datos a Int.\n",
    "column_sueldos[4041] = 95000 # Reemplazamos el valor 4041 pq es un data entry error. Usamos la media para reemplazar.\n",
    "column_sueldos[5257] = 95000 # Lo mismo para otro valor\n",
    "column_sueldos = pd.to_numeric(column_sueldos, downcast = \"float\")\n",
    "media = column_sueldos.mean()\n",
    "mediana = column_sueldos.median()\n",
    "print(f'La media del dataset de sueldos es {media} y la mediana es {mediana}')"
   ]
  },
  {
   "cell_type": "code",
   "execution_count": null,
   "metadata": {},
   "outputs": [],
   "source": []
  }
 ],
 "metadata": {
  "kernelspec": {
   "display_name": "Python 3",
   "language": "python",
   "name": "python3"
  },
  "language_info": {
   "codemirror_mode": {
    "name": "ipython",
    "version": 3
   },
   "file_extension": ".py",
   "mimetype": "text/x-python",
   "name": "python",
   "nbconvert_exporter": "python",
   "pygments_lexer": "ipython3",
   "version": "3.7.4"
  }
 },
 "nbformat": 4,
 "nbformat_minor": 2
}
