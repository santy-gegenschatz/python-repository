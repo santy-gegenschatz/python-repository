{
 "cells": [
  {
   "cell_type": "code",
   "execution_count": 25,
   "metadata": {},
   "outputs": [],
   "source": [
    "# Importamos las librerías necesarias\n",
    "import numpy as np\n",
    "import pandas as pd"
   ]
  },
  {
   "cell_type": "markdown",
   "metadata": {},
   "source": [
    "Función 1: Factorial"
   ]
  },
  {
   "cell_type": "code",
   "execution_count": 26,
   "metadata": {},
   "outputs": [],
   "source": [
    "# Definimos una función para calcular el factorial de un número cualquiera\n",
    "def factorial (num):\n",
    "    fact = 1\n",
    "    for i in range(num): # El truco acá es que podemos multiplicar uno a uno los valores en el range del número al que se le desea calcular el factorial\n",
    "        if (i != 0): # El 0 que forma parte del range no lo queremos tomar\n",
    "            fact = fact*i\n",
    "    fact = fact*num # Y como el range no incluye el último numero, hacemos este cálculo\n",
    "    return (f'El factorial de {num} es {fact}')"
   ]
  },
  {
   "cell_type": "code",
   "execution_count": 27,
   "metadata": {
    "scrolled": true
   },
   "outputs": [
    {
     "name": "stdout",
     "output_type": "stream",
     "text": [
      "El factorial de 5 es 120\n",
      "El factorial de 12 es 479001600\n",
      "El factorial de 4 es 24\n"
     ]
    }
   ],
   "source": [
    "# Pruebas de la función factorial\n",
    "# Factorial 5, debe devolver 120\n",
    "print(factorial(5))\n",
    "# Factorial 12, debe devolver 479001600\n",
    "print(factorial(12))\n",
    "# Factorial 4, debe devolver 24\n",
    "print(factorial(4))"
   ]
  },
  {
   "cell_type": "markdown",
   "metadata": {},
   "source": [
    "Función 2: Suma de un rango entre dos números (n1 y n2) con n2>n1"
   ]
  },
  {
   "cell_type": "code",
   "execution_count": 28,
   "metadata": {},
   "outputs": [],
   "source": [
    "# Definimos la función sumaSerie\n",
    "def sumaSerie(num1, num2):\n",
    "    if (num2 > num1): # Nos aseguramos de que el segundo valor sea mayor al primero\n",
    "        range1 = range(num1, num2+1)\n",
    "        sumaSerie = 0\n",
    "        for i in range1: # Recorremos el rango y sumamos valor a valor\n",
    "            sumaSerie = sumaSerie + i\n",
    "        return (f'La suma de ({num1}, {num2}) es {sumaSerie}') # Devolvemos el resultado\n",
    "    else:\n",
    "        return (\"Error: El segundo número debe ser mayor al primero\")"
   ]
  },
  {
   "cell_type": "code",
   "execution_count": 31,
   "metadata": {},
   "outputs": [
    {
     "name": "stdout",
     "output_type": "stream",
     "text": [
      "La suma de (3, 7) es 25\n",
      "La suma de (1, 3) es 6\n",
      "La suma de (10, 12) es 33\n",
      "Error: El segundo número debe ser mayor al primero\n"
     ]
    }
   ],
   "source": [
    "# Pruebas de sumaSerie\n",
    "# SumaSerie (3, 7) debe devolver 25\n",
    "print(sumaSerie(3, 7))\n",
    "\n",
    "# SumaSerie (1, 3) debe devolver 6\n",
    "print(sumaSerie(1, 3))\n",
    "\n",
    "# SumaSerie (10, 12) debe devolver 33\n",
    "print(sumaSerie(10,12))\n",
    "\n",
    "# SumaSerie (10, 3) debe devolver error porque el segundo número es más pequeño\n",
    "print(sumaSerie(10, 3))"
   ]
  },
  {
   "cell_type": "code",
   "execution_count": 32,
   "metadata": {},
   "outputs": [],
   "source": [
    "# Ambas funciones operan de acuerdo con lo esperado."
   ]
  }
 ],
 "metadata": {
  "kernelspec": {
   "display_name": "Python 3",
   "language": "python",
   "name": "python3"
  },
  "language_info": {
   "codemirror_mode": {
    "name": "ipython",
    "version": 3
   },
   "file_extension": ".py",
   "mimetype": "text/x-python",
   "name": "python",
   "nbconvert_exporter": "python",
   "pygments_lexer": "ipython3",
   "version": "3.7.4"
  }
 },
 "nbformat": 4,
 "nbformat_minor": 2
}
